{
 "cells": [
  {
   "cell_type": "code",
   "execution_count": 52,
   "metadata": {},
   "outputs": [
    {
     "name": "stdout",
     "output_type": "stream",
     "text": [
      "Con las siguientes distribuciones;\n",
      "Valores de x: [0.1, 0.2, 0.3, 0.4, 0.5, 0.6, 0.7, 0.8, 0.9, 1]\n",
      "Valores de y: [0.15, 0.28, 0.34, 0.46, 0.54, 0.68, 0.79, 0.82, 0.91, 1]\n",
      "-----------------------------------------------\n",
      "Obtenamos la recta siguiente;\n",
      "Con pendiente: 0.9448484848484859\n",
      "Y su ordenada: 0.07733333333333353\n"
     ]
    },
    {
     "data": {
      "text/plain": [
       "<function matplotlib.pyplot.show(*args, **kw)>"
      ]
     },
     "execution_count": 52,
     "metadata": {},
     "output_type": "execute_result"
    },
    {
     "data": {
      "image/png": "[encoded data removed]",
      "text/plain": [
       "<Figure size 432x288 with 1 Axes>"
      ]
     },
     "metadata": {},
     "output_type": "display_data"
    }
   ],
   "source": [
    "import numpy as np\n",
    "import random as rn\n",
    "import matplotlib.pyplot as plt\n",
    "% matplotlib inline \n",
    "#Escribir Datos\n",
    "x = [0.1,0.2,0.3,0.4,0.5,0.6,0.7,0.8,0.9,1]\n",
    "y=  [0.15,0.28,0.34,0.46,0.54,0.68,0.79,0.82,0.91,1]\n",
    "\n",
    "x2 = [(dato)**2 for dato in x]\n",
    "xs=sum(x)\n",
    "xss=sum(x2)\n",
    "\n",
    "y2 = [(dato)**2 for dato in y]\n",
    "ys=sum(y)\n",
    "yss=sum(y2)\n",
    "xy=0 \n",
    "count = 0\n",
    "while count < len(x):\n",
    "         s=x[count]*y[count]\n",
    "         xy=s+xy\n",
    "         count=count+1\n",
    "\n",
    "b=(ys*xss-xs*xy)/(len(x)*xss-xs*xs)\n",
    "m=(len(x)*xy-xs*ys)/(len(x)*xss-xs*xs)\n",
    "\n",
    "\n",
    "print(\"Con las siguientes distribuciones;\")\n",
    "print(\"Valores de x:\",x)\n",
    "print (\"Valores de y:\",y)\n",
    "print(\"-----------------------------------------------\")\n",
    "print(\"Obtenamos la recta siguiente;\")\n",
    "print(\"Con pendiente:\",pendiente)\n",
    "print(\"Y su ordenada:\",ordenada)\n",
    "\n",
    "\n",
    "xx=np.random.uniform(min(x),max(x),1000)\n",
    "plt.plot(x,y,'o',label='Datos',color='purple')\n",
    "plt.plot(xx,m*xx+b,label='Ajuste',color='green')\n",
    "plt.xlabel('x')\n",
    "plt.ylabel('y')\n",
    "plt.title('Ajuste de minimos cuadrados')\n",
    "plt.legend()\n",
    "plt.show\n"
   ]
  },
  {
   "cell_type": "code",
   "execution_count": null,
   "metadata": {},
   "outputs": [],
   "source": []
  }
 ],
 "metadata": {
  "kernelspec": {
   "display_name": "Python 3",
   "language": "python",
   "name": "python3"
  },
  "language_info": {
   "codemirror_mode": {
    "name": "ipython",
    "version": 3
   },
   "file_extension": ".py",
   "mimetype": "text/x-python",
   "name": "python",
   "nbconvert_exporter": "python",
   "pygments_lexer": "ipython3",
   "version": "3.6.5"
  }
 },
 "nbformat": 4,
 "nbformat_minor": 2
}
