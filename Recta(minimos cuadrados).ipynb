{
 "cells": [
  {
   "cell_type": "code",
   "execution_count": 18,
   "metadata": {},
   "outputs": [
    {
     "name": "stdout",
     "output_type": "stream",
     "text": [
      "Con las siguientes distribuciones;\n",
      "[0.1, 0.2, 0.3, 0.4, 0.5, 0.6, 0.7, 0.8, 0.9, 1]\n",
      "[0.15, 0.28, 0.34, 0.46, 0.54, 0.68, 0.79, 0.82, 0.91, 1]\n",
      "Obtenamos la recta siguiente:\n",
      "pendiente\n",
      "0.9448484848484859\n",
      "ordenada\n",
      "0.07733333333333353\n"
     ]
    }
   ],
   "source": [
    "x = [0.1,0.2,0.3,0.4,0.5,0.6,0.7,0.8,0.9,1]\n",
    "y=  [0.15,0.28,0.34,0.46,0.54,0.68,0.79,0.82,0.91,1]\n",
    "\n",
    "x2 = [(dato)**2 for dato in x]\n",
    "xs=sum(x)\n",
    "xss=sum(x2)\n",
    "\n",
    "y2 = [(dato)**2 for dato in y]\n",
    "ys=sum(y)\n",
    "yss=sum(y2)\n",
    "xy=0 \n",
    "count = 0\n",
    "while count < 10:\n",
    "         s=x[count]*y[count]\n",
    "         xy=s+xy\n",
    "         count=count+1\n",
    "\n",
    "ordenada=(ys*xss-xs*xy)/(10*xss-xs*xs)\n",
    "pendiente=(10*xy-xs*ys)/(10*xss-xs*xs)\n",
    "\n",
    "\n",
    "print(\"Con las siguientes distribuciones;\")\n",
    "print(x)\n",
    "print (y)\n",
    "print(\"Obtenamos la recta siguiente:\")\n",
    "print(\"pendiente\")\n",
    "print(pendiente)\n",
    "\n",
    "print(\"ordenada\")\n",
    "print(ordenada)\n",
    "\n"
   ]
  },
  {
   "cell_type": "code",
   "execution_count": null,
   "metadata": {},
   "outputs": [],
   "source": []
  }
 ],
 "metadata": {
  "kernelspec": {
   "display_name": "Python 3",
   "language": "python",
   "name": "python3"
  },
  "language_info": {
   "codemirror_mode": {
    "name": "ipython",
    "version": 3
   },
   "file_extension": ".py",
   "mimetype": "text/x-python",
   "name": "python",
   "nbconvert_exporter": "python",
   "pygments_lexer": "ipython3",
   "version": "3.6.5"
  }
 },
 "nbformat": 4,
 "nbformat_minor": 2
}
